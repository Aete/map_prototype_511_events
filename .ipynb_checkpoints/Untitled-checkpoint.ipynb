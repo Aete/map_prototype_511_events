{
 "cells": [
  {
   "cell_type": "code",
   "execution_count": 2,
   "metadata": {},
   "outputs": [],
   "source": [
    "import geopandas as gpd\n",
    "import pandas as pd"
   ]
  },
  {
   "cell_type": "code",
   "execution_count": 3,
   "metadata": {},
   "outputs": [],
   "source": [
    "mapped_crashes = gpd.read_file('ManhattanCrashQ42019Clustered.geojson')"
   ]
  },
  {
   "cell_type": "code",
   "execution_count": 6,
   "metadata": {},
   "outputs": [],
   "source": [
    "mapped_crashes = mapped_crashes[['referenceId','geometry']]"
   ]
  },
  {
   "cell_type": "code",
   "execution_count": 7,
   "metadata": {},
   "outputs": [],
   "source": [
    "mapped_crashes.to_file('data/crash_map.geojson', driver='GeoJSON')"
   ]
  },
  {
   "cell_type": "code",
   "execution_count": 8,
   "metadata": {},
   "outputs": [],
   "source": [
    "crashes = gpd.read_file('ManhattanCrashQ42019.geojson')"
   ]
  },
  {
   "cell_type": "code",
   "execution_count": 11,
   "metadata": {},
   "outputs": [],
   "source": [
    "crashes = crashes.loc[:,'geometry']"
   ]
  },
  {
   "cell_type": "code",
   "execution_count": 13,
   "metadata": {},
   "outputs": [],
   "source": [
    "crashes.to_file('data/crash.geojson', driver='GeoJSON')"
   ]
  },
  {
   "cell_type": "code",
   "execution_count": 3,
   "metadata": {},
   "outputs": [],
   "source": [
    "sharedstreet_geo = gpd.read_file('manhattan_uber_speed_quarterlycsvout.geojson')"
   ]
  },
  {
   "cell_type": "code",
   "execution_count": 4,
   "metadata": {},
   "outputs": [
    {
     "data": {
      "text/html": [
       "<div>\n",
       "<style scoped>\n",
       "    .dataframe tbody tr th:only-of-type {\n",
       "        vertical-align: middle;\n",
       "    }\n",
       "\n",
       "    .dataframe tbody tr th {\n",
       "        vertical-align: top;\n",
       "    }\n",
       "\n",
       "    .dataframe thead th {\n",
       "        text-align: right;\n",
       "    }\n",
       "</style>\n",
       "<table border=\"1\" class=\"dataframe\">\n",
       "  <thead>\n",
       "    <tr style=\"text-align: right;\">\n",
       "      <th></th>\n",
       "      <th>id</th>\n",
       "      <th>referenceId</th>\n",
       "      <th>segment</th>\n",
       "      <th>fromJunction</th>\n",
       "      <th>toJunction</th>\n",
       "      <th>wayId</th>\n",
       "      <th>fromNodeId</th>\n",
       "      <th>toNodeId</th>\n",
       "      <th>year</th>\n",
       "      <th>quarter</th>\n",
       "      <th>hour</th>\n",
       "      <th>mean</th>\n",
       "      <th>meanStd</th>\n",
       "      <th>p50</th>\n",
       "      <th>p85</th>\n",
       "      <th>geometry</th>\n",
       "    </tr>\n",
       "  </thead>\n",
       "  <tbody>\n",
       "    <tr>\n",
       "      <th>0</th>\n",
       "      <td>b33d4f05c72cdc547d596bb5efdfdd5b</td>\n",
       "      <td>e90a41c8d2fd6ed2a438ea010279435b</td>\n",
       "      <td>f1b6439e8fc2fa7972371c02bb27eb81a7a35888</td>\n",
       "      <td>62f7cdce14b4f799277ce264aed3205c61553e15</td>\n",
       "      <td>e612e6c5a44a5ef3c4c1ee73f74100450ae45375</td>\n",
       "      <td>604880067</td>\n",
       "      <td>5487813168</td>\n",
       "      <td>5212739096</td>\n",
       "      <td>2019</td>\n",
       "      <td>4</td>\n",
       "      <td>1</td>\n",
       "      <td>14.037</td>\n",
       "      <td>3.140</td>\n",
       "      <td>14.163</td>\n",
       "      <td>17.167</td>\n",
       "      <td>LINESTRING (-73.94750 40.76408, -73.94749 40.7...</td>\n",
       "    </tr>\n",
       "    <tr>\n",
       "      <th>1</th>\n",
       "      <td>b33d4f05c72cdc547d596bb5efdfdd5b</td>\n",
       "      <td>e90a41c8d2fd6ed2a438ea010279435b</td>\n",
       "      <td>f1b6439e8fc2fa7972371c02bb27eb81a7a35888</td>\n",
       "      <td>62f7cdce14b4f799277ce264aed3205c61553e15</td>\n",
       "      <td>e612e6c5a44a5ef3c4c1ee73f74100450ae45375</td>\n",
       "      <td>604880067</td>\n",
       "      <td>5487813168</td>\n",
       "      <td>5212739096</td>\n",
       "      <td>2019</td>\n",
       "      <td>4</td>\n",
       "      <td>18</td>\n",
       "      <td>13.412</td>\n",
       "      <td>3.849</td>\n",
       "      <td>13.537</td>\n",
       "      <td>16.980</td>\n",
       "      <td>LINESTRING (-73.94750 40.76408, -73.94749 40.7...</td>\n",
       "    </tr>\n",
       "    <tr>\n",
       "      <th>2</th>\n",
       "      <td>b33d4f05c72cdc547d596bb5efdfdd5b</td>\n",
       "      <td>e90a41c8d2fd6ed2a438ea010279435b</td>\n",
       "      <td>f1b6439e8fc2fa7972371c02bb27eb81a7a35888</td>\n",
       "      <td>62f7cdce14b4f799277ce264aed3205c61553e15</td>\n",
       "      <td>e612e6c5a44a5ef3c4c1ee73f74100450ae45375</td>\n",
       "      <td>604880067</td>\n",
       "      <td>5487813168</td>\n",
       "      <td>5212739096</td>\n",
       "      <td>2019</td>\n",
       "      <td>4</td>\n",
       "      <td>2</td>\n",
       "      <td>14.214</td>\n",
       "      <td>3.361</td>\n",
       "      <td>14.548</td>\n",
       "      <td>17.423</td>\n",
       "      <td>LINESTRING (-73.94750 40.76408, -73.94749 40.7...</td>\n",
       "    </tr>\n",
       "    <tr>\n",
       "      <th>3</th>\n",
       "      <td>b33d4f05c72cdc547d596bb5efdfdd5b</td>\n",
       "      <td>e90a41c8d2fd6ed2a438ea010279435b</td>\n",
       "      <td>f1b6439e8fc2fa7972371c02bb27eb81a7a35888</td>\n",
       "      <td>62f7cdce14b4f799277ce264aed3205c61553e15</td>\n",
       "      <td>e612e6c5a44a5ef3c4c1ee73f74100450ae45375</td>\n",
       "      <td>604880067</td>\n",
       "      <td>5487813168</td>\n",
       "      <td>5212739096</td>\n",
       "      <td>2019</td>\n",
       "      <td>4</td>\n",
       "      <td>14</td>\n",
       "      <td>12.706</td>\n",
       "      <td>4.177</td>\n",
       "      <td>13.175</td>\n",
       "      <td>17.088</td>\n",
       "      <td>LINESTRING (-73.94750 40.76408, -73.94749 40.7...</td>\n",
       "    </tr>\n",
       "    <tr>\n",
       "      <th>4</th>\n",
       "      <td>b33d4f05c72cdc547d596bb5efdfdd5b</td>\n",
       "      <td>e90a41c8d2fd6ed2a438ea010279435b</td>\n",
       "      <td>f1b6439e8fc2fa7972371c02bb27eb81a7a35888</td>\n",
       "      <td>62f7cdce14b4f799277ce264aed3205c61553e15</td>\n",
       "      <td>e612e6c5a44a5ef3c4c1ee73f74100450ae45375</td>\n",
       "      <td>604880067</td>\n",
       "      <td>5487813168</td>\n",
       "      <td>5212739096</td>\n",
       "      <td>2019</td>\n",
       "      <td>4</td>\n",
       "      <td>8</td>\n",
       "      <td>13.317</td>\n",
       "      <td>4.152</td>\n",
       "      <td>12.946</td>\n",
       "      <td>17.198</td>\n",
       "      <td>LINESTRING (-73.94750 40.76408, -73.94749 40.7...</td>\n",
       "    </tr>\n",
       "  </tbody>\n",
       "</table>\n",
       "</div>"
      ],
      "text/plain": [
       "                                 id                       referenceId  \\\n",
       "0  b33d4f05c72cdc547d596bb5efdfdd5b  e90a41c8d2fd6ed2a438ea010279435b   \n",
       "1  b33d4f05c72cdc547d596bb5efdfdd5b  e90a41c8d2fd6ed2a438ea010279435b   \n",
       "2  b33d4f05c72cdc547d596bb5efdfdd5b  e90a41c8d2fd6ed2a438ea010279435b   \n",
       "3  b33d4f05c72cdc547d596bb5efdfdd5b  e90a41c8d2fd6ed2a438ea010279435b   \n",
       "4  b33d4f05c72cdc547d596bb5efdfdd5b  e90a41c8d2fd6ed2a438ea010279435b   \n",
       "\n",
       "                                    segment  \\\n",
       "0  f1b6439e8fc2fa7972371c02bb27eb81a7a35888   \n",
       "1  f1b6439e8fc2fa7972371c02bb27eb81a7a35888   \n",
       "2  f1b6439e8fc2fa7972371c02bb27eb81a7a35888   \n",
       "3  f1b6439e8fc2fa7972371c02bb27eb81a7a35888   \n",
       "4  f1b6439e8fc2fa7972371c02bb27eb81a7a35888   \n",
       "\n",
       "                               fromJunction  \\\n",
       "0  62f7cdce14b4f799277ce264aed3205c61553e15   \n",
       "1  62f7cdce14b4f799277ce264aed3205c61553e15   \n",
       "2  62f7cdce14b4f799277ce264aed3205c61553e15   \n",
       "3  62f7cdce14b4f799277ce264aed3205c61553e15   \n",
       "4  62f7cdce14b4f799277ce264aed3205c61553e15   \n",
       "\n",
       "                                 toJunction      wayId  fromNodeId  \\\n",
       "0  e612e6c5a44a5ef3c4c1ee73f74100450ae45375  604880067  5487813168   \n",
       "1  e612e6c5a44a5ef3c4c1ee73f74100450ae45375  604880067  5487813168   \n",
       "2  e612e6c5a44a5ef3c4c1ee73f74100450ae45375  604880067  5487813168   \n",
       "3  e612e6c5a44a5ef3c4c1ee73f74100450ae45375  604880067  5487813168   \n",
       "4  e612e6c5a44a5ef3c4c1ee73f74100450ae45375  604880067  5487813168   \n",
       "\n",
       "     toNodeId  year  quarter  hour    mean  meanStd     p50     p85  \\\n",
       "0  5212739096  2019        4     1  14.037    3.140  14.163  17.167   \n",
       "1  5212739096  2019        4    18  13.412    3.849  13.537  16.980   \n",
       "2  5212739096  2019        4     2  14.214    3.361  14.548  17.423   \n",
       "3  5212739096  2019        4    14  12.706    4.177  13.175  17.088   \n",
       "4  5212739096  2019        4     8  13.317    4.152  12.946  17.198   \n",
       "\n",
       "                                            geometry  \n",
       "0  LINESTRING (-73.94750 40.76408, -73.94749 40.7...  \n",
       "1  LINESTRING (-73.94750 40.76408, -73.94749 40.7...  \n",
       "2  LINESTRING (-73.94750 40.76408, -73.94749 40.7...  \n",
       "3  LINESTRING (-73.94750 40.76408, -73.94749 40.7...  \n",
       "4  LINESTRING (-73.94750 40.76408, -73.94749 40.7...  "
      ]
     },
     "execution_count": 4,
     "metadata": {},
     "output_type": "execute_result"
    }
   ],
   "source": [
    "sharedstreet_geo.head()"
   ]
  },
  {
   "cell_type": "code",
   "execution_count": 8,
   "metadata": {},
   "outputs": [],
   "source": [
    "sharedstreet_geo = sharedstreet_geo.loc[:,'geometry']"
   ]
  },
  {
   "cell_type": "code",
   "execution_count": 9,
   "metadata": {},
   "outputs": [],
   "source": [
    "sharedstreet_geo .to_file('data/sstreet.geojson', driver='GeoJSON')"
   ]
  },
  {
   "cell_type": "code",
   "execution_count": null,
   "metadata": {},
   "outputs": [],
   "source": []
  }
 ],
 "metadata": {
  "kernelspec": {
   "display_name": "Python 3",
   "language": "python",
   "name": "python3"
  },
  "language_info": {
   "codemirror_mode": {
    "name": "ipython",
    "version": 3
   },
   "file_extension": ".py",
   "mimetype": "text/x-python",
   "name": "python",
   "nbconvert_exporter": "python",
   "pygments_lexer": "ipython3",
   "version": "3.7.5"
  }
 },
 "nbformat": 4,
 "nbformat_minor": 2
}
